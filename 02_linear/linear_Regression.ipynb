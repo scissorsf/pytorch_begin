{
 "cells": [
  {
   "cell_type": "code",
   "execution_count": 1,
   "metadata": {
    "collapsed": true
   },
   "outputs": [],
   "source": [
    "import torch\n",
    "from torch import nn, optim\n",
    "from torch.autograd import Variable\n",
    "import numpy as np\n",
    "import matplotlib.pyplot as plt"
   ]
  },
  {
   "cell_type": "code",
   "execution_count": 2,
   "metadata": {
    "collapsed": true
   },
   "outputs": [],
   "source": [
    "x_train = np.array([[3.3], [4.4], [5.5], [6.71], [6.93], [4.168],\n",
    "                    [9.779], [6.182], [7.59], [2.167], [7.042],\n",
    "                    [10.791], [5.313], [7.997], [3.1]], dtype=np.float32)"
   ]
  },
  {
   "cell_type": "code",
   "execution_count": 3,
   "metadata": {
    "collapsed": true
   },
   "outputs": [],
   "source": [
    "y_train = np.array([[1.7], [2.76], [2.09], [3.19], [1.694], [1.573],\n",
    "                    [3.366], [2.596], [2.53], [1.221], [2.827],\n",
    "                    [3.465], [1.65], [2.904], [1.3]], dtype=np.float32)"
   ]
  },
  {
   "cell_type": "code",
   "execution_count": 4,
   "metadata": {
    "collapsed": true
   },
   "outputs": [],
   "source": [
    "x_train = torch.from_numpy(x_train)\n",
    "\n",
    "y_train = torch.from_numpy(y_train)"
   ]
  },
  {
   "cell_type": "code",
   "execution_count": 5,
   "metadata": {
    "collapsed": true
   },
   "outputs": [],
   "source": [
    "class LinearRegression(nn.Module):\n",
    "    def __init__(self):\n",
    "        super(LinearRegression, self).__init__()\n",
    "        self.linear = nn.Linear(1, 1)  # input and output is 1 dimension\n",
    "\n",
    "    def forward(self, x):\n",
    "        out = self.linear(x)\n",
    "        return out"
   ]
  },
  {
   "cell_type": "code",
   "execution_count": 6,
   "metadata": {
    "collapsed": true
   },
   "outputs": [],
   "source": [
    "model = LinearRegression()\n",
    "# 定义loss和优化函数\n",
    "criterion = nn.MSELoss()\n",
    "optimizer = optim.SGD(model.parameters(), lr=1e-4)"
   ]
  },
  {
   "cell_type": "code",
   "execution_count": 7,
   "metadata": {
    "collapsed": false
   },
   "outputs": [
    {
     "name": "stdout",
     "output_type": "stream",
     "text": [
      "Epoch[20/1000], loss: 36.298023\n",
      "Epoch[40/1000], loss: 25.777983\n",
      "Epoch[60/1000], loss: 18.342928\n",
      "Epoch[80/1000], loss: 13.088160\n",
      "Epoch[100/1000], loss: 9.374304\n",
      "Epoch[120/1000], loss: 6.749480\n",
      "Epoch[140/1000], loss: 4.894323\n",
      "Epoch[160/1000], loss: 3.583123\n",
      "Epoch[180/1000], loss: 2.656363\n",
      "Epoch[200/1000], loss: 2.001303\n",
      "Epoch[220/1000], loss: 1.538268\n",
      "Epoch[240/1000], loss: 1.210944\n",
      "Epoch[260/1000], loss: 0.979533\n",
      "Epoch[280/1000], loss: 0.815908\n",
      "Epoch[300/1000], loss: 0.700191\n",
      "Epoch[320/1000], loss: 0.618333\n",
      "Epoch[340/1000], loss: 0.560404\n",
      "Epoch[360/1000], loss: 0.519387\n",
      "Epoch[380/1000], loss: 0.490323\n",
      "Epoch[400/1000], loss: 0.469706\n",
      "Epoch[420/1000], loss: 0.455060\n",
      "Epoch[440/1000], loss: 0.444633\n",
      "Epoch[460/1000], loss: 0.437189\n",
      "Epoch[480/1000], loss: 0.431852\n",
      "Epoch[500/1000], loss: 0.428005\n",
      "Epoch[520/1000], loss: 0.425211\n",
      "Epoch[540/1000], loss: 0.423161\n",
      "Epoch[560/1000], loss: 0.421638\n",
      "Epoch[580/1000], loss: 0.420486\n",
      "Epoch[600/1000], loss: 0.419597\n",
      "Epoch[620/1000], loss: 0.418894\n",
      "Epoch[640/1000], loss: 0.418322\n",
      "Epoch[660/1000], loss: 0.417843\n",
      "Epoch[680/1000], loss: 0.417430\n",
      "Epoch[700/1000], loss: 0.417064\n",
      "Epoch[720/1000], loss: 0.416730\n",
      "Epoch[740/1000], loss: 0.416420\n",
      "Epoch[760/1000], loss: 0.416127\n",
      "Epoch[780/1000], loss: 0.415845\n",
      "Epoch[800/1000], loss: 0.415572\n",
      "Epoch[820/1000], loss: 0.415305\n",
      "Epoch[840/1000], loss: 0.415042\n",
      "Epoch[860/1000], loss: 0.414783\n",
      "Epoch[880/1000], loss: 0.414525\n",
      "Epoch[900/1000], loss: 0.414270\n",
      "Epoch[920/1000], loss: 0.414015\n",
      "Epoch[940/1000], loss: 0.413762\n",
      "Epoch[960/1000], loss: 0.413509\n",
      "Epoch[980/1000], loss: 0.413257\n",
      "Epoch[1000/1000], loss: 0.413006\n"
     ]
    }
   ],
   "source": [
    "num_epochs = 1000\n",
    "for epoch in range(num_epochs):\n",
    "    inputs = Variable(x_train)\n",
    "    target = Variable(y_train)\n",
    "\n",
    "    # forward\n",
    "    out = model(inputs)\n",
    "    loss = criterion(out, target)\n",
    "    # backward\n",
    "    optimizer.zero_grad()\n",
    "    loss.backward()\n",
    "    optimizer.step()\n",
    "\n",
    "    if (epoch+1) % 20 == 0:\n",
    "        print('Epoch[{}/{}], loss: {:.6f}'\n",
    "              .format(epoch+1, num_epochs, loss.data[0]))"
   ]
  },
  {
   "cell_type": "code",
   "execution_count": 13,
   "metadata": {
    "collapsed": false
   },
   "outputs": [
    {
     "data": {
      "image/png": "[encoded data removed]",
      "text/plain": [
       "<matplotlib.figure.Figure at 0x21b02267860>"
      ]
     },
     "metadata": {},
     "output_type": "display_data"
    }
   ],
   "source": [
    "model.eval()\n",
    "predict = model(Variable(x_train))\n",
    "predict = predict.data.numpy()\n",
    "plt.plot(x_train.numpy(), y_train.numpy(), 'ro', label='Original data')\n",
    "plt.plot(x_train.numpy(), predict, label='Fitting Line')\n",
    "plt.legend()\n",
    "plt.show()"
   ]
  },
  {
   "cell_type": "code",
   "execution_count": null,
   "metadata": {
    "collapsed": true
   },
   "outputs": [],
   "source": []
  }
 ],
 "metadata": {
  "kernelspec": {
   "display_name": "Python 3",
   "language": "python",
   "name": "python3"
  },
  "language_info": {
   "codemirror_mode": {
    "name": "ipython",
    "version": 3
   },
   "file_extension": ".py",
   "mimetype": "text/x-python",
   "name": "python",
   "nbconvert_exporter": "python",
   "pygments_lexer": "ipython3",
   "version": "3.6.0"
  }
 },
 "nbformat": 4,
 "nbformat_minor": 2
}
